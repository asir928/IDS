{
  "nbformat": 4,
  "nbformat_minor": 0,
  "metadata": {
    "colab": {
      "provenance": [],
      "authorship_tag": "ABX9TyMWW55QMNShH30cslkJuRkl",
      "include_colab_link": true
    },
    "kernelspec": {
      "name": "python3",
      "display_name": "Python 3"
    },
    "language_info": {
      "name": "python"
    }
  },
  "cells": [
    {
      "cell_type": "markdown",
      "metadata": {
        "id": "view-in-github",
        "colab_type": "text"
      },
      "source": [
        "<a href=\"https://colab.research.google.com/github/asir928/IDS/blob/main/HW5/HW5_problem1.ipynb\" target=\"_parent\"><img src=\"https://colab.research.google.com/assets/colab-badge.svg\" alt=\"Open In Colab\"/></a>"
      ]
    },
    {
      "cell_type": "markdown",
      "source": [
        "Name: Asir Nayeef\n",
        "\n",
        "# **Project 5 - Problem 1 (Python)**\n",
        "\n",
        "\n",
        "1. Importing the data"
      ],
      "metadata": {
        "id": "piDK73TAFOeg"
      }
    },
    {
      "cell_type": "code",
      "execution_count": 95,
      "metadata": {
        "id": "_MjQVbJZuXSi"
      },
      "outputs": [],
      "source": [
        "## install requirements\n",
        "import pandas as pd\n",
        "import matplotlib.pyplot as plt\n",
        "import seaborn as sns\n",
        "\n",
        "# convert CSV into dataframe\n",
        "wine_flag_all = pd.read_csv(\"wine_flag_all.csv\")"
      ]
    },
    {
      "cell_type": "code",
      "source": [
        "#print first 10 rows\n",
        "wine_flag_all.head(10)"
      ],
      "metadata": {
        "colab": {
          "base_uri": "https://localhost:8080/",
          "height": 363
        },
        "id": "l_nxTntmHDVF",
        "outputId": "70d4a3d0-ee82-4fc0-d178-fea2bcbb0aac"
      },
      "execution_count": 96,
      "outputs": [
        {
          "output_type": "execute_result",
          "data": {
            "text/plain": [
              "  Type Alcohol_flag Sugar_flag\n",
              "0  Red         High       High\n",
              "1  Red         High        Low\n",
              "2  Red          Low       High\n",
              "3  Red         High        Low\n",
              "4  Red          Low        Low\n",
              "5  Red          Low        Low\n",
              "6  Red         High        Low\n",
              "7  Red          Low        Low\n",
              "8  Red          Low        Low\n",
              "9  Red          Low        Low"
            ],
            "text/html": [
              "\n",
              "  <div id=\"df-55af7689-98ee-4a03-ac00-37ef2c2895d4\" class=\"colab-df-container\">\n",
              "    <div>\n",
              "<style scoped>\n",
              "    .dataframe tbody tr th:only-of-type {\n",
              "        vertical-align: middle;\n",
              "    }\n",
              "\n",
              "    .dataframe tbody tr th {\n",
              "        vertical-align: top;\n",
              "    }\n",
              "\n",
              "    .dataframe thead th {\n",
              "        text-align: right;\n",
              "    }\n",
              "</style>\n",
              "<table border=\"1\" class=\"dataframe\">\n",
              "  <thead>\n",
              "    <tr style=\"text-align: right;\">\n",
              "      <th></th>\n",
              "      <th>Type</th>\n",
              "      <th>Alcohol_flag</th>\n",
              "      <th>Sugar_flag</th>\n",
              "    </tr>\n",
              "  </thead>\n",
              "  <tbody>\n",
              "    <tr>\n",
              "      <th>0</th>\n",
              "      <td>Red</td>\n",
              "      <td>High</td>\n",
              "      <td>High</td>\n",
              "    </tr>\n",
              "    <tr>\n",
              "      <th>1</th>\n",
              "      <td>Red</td>\n",
              "      <td>High</td>\n",
              "      <td>Low</td>\n",
              "    </tr>\n",
              "    <tr>\n",
              "      <th>2</th>\n",
              "      <td>Red</td>\n",
              "      <td>Low</td>\n",
              "      <td>High</td>\n",
              "    </tr>\n",
              "    <tr>\n",
              "      <th>3</th>\n",
              "      <td>Red</td>\n",
              "      <td>High</td>\n",
              "      <td>Low</td>\n",
              "    </tr>\n",
              "    <tr>\n",
              "      <th>4</th>\n",
              "      <td>Red</td>\n",
              "      <td>Low</td>\n",
              "      <td>Low</td>\n",
              "    </tr>\n",
              "    <tr>\n",
              "      <th>5</th>\n",
              "      <td>Red</td>\n",
              "      <td>Low</td>\n",
              "      <td>Low</td>\n",
              "    </tr>\n",
              "    <tr>\n",
              "      <th>6</th>\n",
              "      <td>Red</td>\n",
              "      <td>High</td>\n",
              "      <td>Low</td>\n",
              "    </tr>\n",
              "    <tr>\n",
              "      <th>7</th>\n",
              "      <td>Red</td>\n",
              "      <td>Low</td>\n",
              "      <td>Low</td>\n",
              "    </tr>\n",
              "    <tr>\n",
              "      <th>8</th>\n",
              "      <td>Red</td>\n",
              "      <td>Low</td>\n",
              "      <td>Low</td>\n",
              "    </tr>\n",
              "    <tr>\n",
              "      <th>9</th>\n",
              "      <td>Red</td>\n",
              "      <td>Low</td>\n",
              "      <td>Low</td>\n",
              "    </tr>\n",
              "  </tbody>\n",
              "</table>\n",
              "</div>\n",
              "    <div class=\"colab-df-buttons\">\n",
              "\n",
              "  <div class=\"colab-df-container\">\n",
              "    <button class=\"colab-df-convert\" onclick=\"convertToInteractive('df-55af7689-98ee-4a03-ac00-37ef2c2895d4')\"\n",
              "            title=\"Convert this dataframe to an interactive table.\"\n",
              "            style=\"display:none;\">\n",
              "\n",
              "  <svg xmlns=\"http://www.w3.org/2000/svg\" height=\"24px\" viewBox=\"0 -960 960 960\">\n",
              "    <path d=\"M120-120v-720h720v720H120Zm60-500h600v-160H180v160Zm220 220h160v-160H400v160Zm0 220h160v-160H400v160ZM180-400h160v-160H180v160Zm440 0h160v-160H620v160ZM180-180h160v-160H180v160Zm440 0h160v-160H620v160Z\"/>\n",
              "  </svg>\n",
              "    </button>\n",
              "\n",
              "  <style>\n",
              "    .colab-df-container {\n",
              "      display:flex;\n",
              "      gap: 12px;\n",
              "    }\n",
              "\n",
              "    .colab-df-convert {\n",
              "      background-color: #E8F0FE;\n",
              "      border: none;\n",
              "      border-radius: 50%;\n",
              "      cursor: pointer;\n",
              "      display: none;\n",
              "      fill: #1967D2;\n",
              "      height: 32px;\n",
              "      padding: 0 0 0 0;\n",
              "      width: 32px;\n",
              "    }\n",
              "\n",
              "    .colab-df-convert:hover {\n",
              "      background-color: #E2EBFA;\n",
              "      box-shadow: 0px 1px 2px rgba(60, 64, 67, 0.3), 0px 1px 3px 1px rgba(60, 64, 67, 0.15);\n",
              "      fill: #174EA6;\n",
              "    }\n",
              "\n",
              "    .colab-df-buttons div {\n",
              "      margin-bottom: 4px;\n",
              "    }\n",
              "\n",
              "    [theme=dark] .colab-df-convert {\n",
              "      background-color: #3B4455;\n",
              "      fill: #D2E3FC;\n",
              "    }\n",
              "\n",
              "    [theme=dark] .colab-df-convert:hover {\n",
              "      background-color: #434B5C;\n",
              "      box-shadow: 0px 1px 3px 1px rgba(0, 0, 0, 0.15);\n",
              "      filter: drop-shadow(0px 1px 2px rgba(0, 0, 0, 0.3));\n",
              "      fill: #FFFFFF;\n",
              "    }\n",
              "  </style>\n",
              "\n",
              "    <script>\n",
              "      const buttonEl =\n",
              "        document.querySelector('#df-55af7689-98ee-4a03-ac00-37ef2c2895d4 button.colab-df-convert');\n",
              "      buttonEl.style.display =\n",
              "        google.colab.kernel.accessAllowed ? 'block' : 'none';\n",
              "\n",
              "      async function convertToInteractive(key) {\n",
              "        const element = document.querySelector('#df-55af7689-98ee-4a03-ac00-37ef2c2895d4');\n",
              "        const dataTable =\n",
              "          await google.colab.kernel.invokeFunction('convertToInteractive',\n",
              "                                                    [key], {});\n",
              "        if (!dataTable) return;\n",
              "\n",
              "        const docLinkHtml = 'Like what you see? Visit the ' +\n",
              "          '<a target=\"_blank\" href=https://colab.research.google.com/notebooks/data_table.ipynb>data table notebook</a>'\n",
              "          + ' to learn more about interactive tables.';\n",
              "        element.innerHTML = '';\n",
              "        dataTable['output_type'] = 'display_data';\n",
              "        await google.colab.output.renderOutput(dataTable, element);\n",
              "        const docLink = document.createElement('div');\n",
              "        docLink.innerHTML = docLinkHtml;\n",
              "        element.appendChild(docLink);\n",
              "      }\n",
              "    </script>\n",
              "  </div>\n",
              "\n",
              "\n",
              "<div id=\"df-431c84cb-d13d-4a1b-bc35-f08395f45c53\">\n",
              "  <button class=\"colab-df-quickchart\" onclick=\"quickchart('df-431c84cb-d13d-4a1b-bc35-f08395f45c53')\"\n",
              "            title=\"Suggest charts\"\n",
              "            style=\"display:none;\">\n",
              "\n",
              "<svg xmlns=\"http://www.w3.org/2000/svg\" height=\"24px\"viewBox=\"0 0 24 24\"\n",
              "     width=\"24px\">\n",
              "    <g>\n",
              "        <path d=\"M19 3H5c-1.1 0-2 .9-2 2v14c0 1.1.9 2 2 2h14c1.1 0 2-.9 2-2V5c0-1.1-.9-2-2-2zM9 17H7v-7h2v7zm4 0h-2V7h2v10zm4 0h-2v-4h2v4z\"/>\n",
              "    </g>\n",
              "</svg>\n",
              "  </button>\n",
              "\n",
              "<style>\n",
              "  .colab-df-quickchart {\n",
              "      --bg-color: #E8F0FE;\n",
              "      --fill-color: #1967D2;\n",
              "      --hover-bg-color: #E2EBFA;\n",
              "      --hover-fill-color: #174EA6;\n",
              "      --disabled-fill-color: #AAA;\n",
              "      --disabled-bg-color: #DDD;\n",
              "  }\n",
              "\n",
              "  [theme=dark] .colab-df-quickchart {\n",
              "      --bg-color: #3B4455;\n",
              "      --fill-color: #D2E3FC;\n",
              "      --hover-bg-color: #434B5C;\n",
              "      --hover-fill-color: #FFFFFF;\n",
              "      --disabled-bg-color: #3B4455;\n",
              "      --disabled-fill-color: #666;\n",
              "  }\n",
              "\n",
              "  .colab-df-quickchart {\n",
              "    background-color: var(--bg-color);\n",
              "    border: none;\n",
              "    border-radius: 50%;\n",
              "    cursor: pointer;\n",
              "    display: none;\n",
              "    fill: var(--fill-color);\n",
              "    height: 32px;\n",
              "    padding: 0;\n",
              "    width: 32px;\n",
              "  }\n",
              "\n",
              "  .colab-df-quickchart:hover {\n",
              "    background-color: var(--hover-bg-color);\n",
              "    box-shadow: 0 1px 2px rgba(60, 64, 67, 0.3), 0 1px 3px 1px rgba(60, 64, 67, 0.15);\n",
              "    fill: var(--button-hover-fill-color);\n",
              "  }\n",
              "\n",
              "  .colab-df-quickchart-complete:disabled,\n",
              "  .colab-df-quickchart-complete:disabled:hover {\n",
              "    background-color: var(--disabled-bg-color);\n",
              "    fill: var(--disabled-fill-color);\n",
              "    box-shadow: none;\n",
              "  }\n",
              "\n",
              "  .colab-df-spinner {\n",
              "    border: 2px solid var(--fill-color);\n",
              "    border-color: transparent;\n",
              "    border-bottom-color: var(--fill-color);\n",
              "    animation:\n",
              "      spin 1s steps(1) infinite;\n",
              "  }\n",
              "\n",
              "  @keyframes spin {\n",
              "    0% {\n",
              "      border-color: transparent;\n",
              "      border-bottom-color: var(--fill-color);\n",
              "      border-left-color: var(--fill-color);\n",
              "    }\n",
              "    20% {\n",
              "      border-color: transparent;\n",
              "      border-left-color: var(--fill-color);\n",
              "      border-top-color: var(--fill-color);\n",
              "    }\n",
              "    30% {\n",
              "      border-color: transparent;\n",
              "      border-left-color: var(--fill-color);\n",
              "      border-top-color: var(--fill-color);\n",
              "      border-right-color: var(--fill-color);\n",
              "    }\n",
              "    40% {\n",
              "      border-color: transparent;\n",
              "      border-right-color: var(--fill-color);\n",
              "      border-top-color: var(--fill-color);\n",
              "    }\n",
              "    60% {\n",
              "      border-color: transparent;\n",
              "      border-right-color: var(--fill-color);\n",
              "    }\n",
              "    80% {\n",
              "      border-color: transparent;\n",
              "      border-right-color: var(--fill-color);\n",
              "      border-bottom-color: var(--fill-color);\n",
              "    }\n",
              "    90% {\n",
              "      border-color: transparent;\n",
              "      border-bottom-color: var(--fill-color);\n",
              "    }\n",
              "  }\n",
              "</style>\n",
              "\n",
              "  <script>\n",
              "    async function quickchart(key) {\n",
              "      const quickchartButtonEl =\n",
              "        document.querySelector('#' + key + ' button');\n",
              "      quickchartButtonEl.disabled = true;  // To prevent multiple clicks.\n",
              "      quickchartButtonEl.classList.add('colab-df-spinner');\n",
              "      try {\n",
              "        const charts = await google.colab.kernel.invokeFunction(\n",
              "            'suggestCharts', [key], {});\n",
              "      } catch (error) {\n",
              "        console.error('Error during call to suggestCharts:', error);\n",
              "      }\n",
              "      quickchartButtonEl.classList.remove('colab-df-spinner');\n",
              "      quickchartButtonEl.classList.add('colab-df-quickchart-complete');\n",
              "    }\n",
              "    (() => {\n",
              "      let quickchartButtonEl =\n",
              "        document.querySelector('#df-431c84cb-d13d-4a1b-bc35-f08395f45c53 button');\n",
              "      quickchartButtonEl.style.display =\n",
              "        google.colab.kernel.accessAllowed ? 'block' : 'none';\n",
              "    })();\n",
              "  </script>\n",
              "</div>\n",
              "    </div>\n",
              "  </div>\n"
            ]
          },
          "metadata": {},
          "execution_count": 96
        }
      ]
    },
    {
      "cell_type": "markdown",
      "source": [
        "2. Testing for missing values."
      ],
      "metadata": {
        "id": "zKz0Hk0yFN2i"
      }
    },
    {
      "cell_type": "code",
      "source": [
        "#Checking for missing values\n",
        "print(wine_flag_all['Type'].isnull().sum())\n",
        "print(wine_flag_all['Type'].isna().sum())\n",
        "print(wine_flag_all['Alcohol_flag'].isnull().sum())\n",
        "print(wine_flag_all['Alcohol_flag'].isna().sum())\n",
        "print(wine_flag_all['Sugar_flag'].isnull().sum())\n",
        "print(wine_flag_all['Sugar_flag'].isna().sum())"
      ],
      "metadata": {
        "colab": {
          "base_uri": "https://localhost:8080/"
        },
        "id": "Welql-1KHbHS",
        "outputId": "976357cf-2b01-4911-f9f4-932f885c547f"
      },
      "execution_count": 97,
      "outputs": [
        {
          "output_type": "stream",
          "name": "stdout",
          "text": [
            "0\n",
            "0\n",
            "0\n",
            "0\n",
            "0\n",
            "0\n"
          ]
        }
      ]
    },
    {
      "cell_type": "markdown",
      "source": [
        "There were no missing values in the dataset.\n"
      ],
      "metadata": {
        "id": "Ngz7oLtAMruL"
      }
    },
    {
      "cell_type": "markdown",
      "source": [
        "3. Encoding categorical attributes"
      ],
      "metadata": {
        "id": "VWDwjDfho7HS"
      }
    },
    {
      "cell_type": "code",
      "source": [
        "# import reqs\n",
        "from sklearn import preprocessing\n",
        "le = preprocessing.LabelEncoder()\n",
        "\n",
        "# save encoded target\n",
        "enc_wine_flag_all = pd.DataFrame()\n",
        "\n",
        "# save others\n",
        "for i in range(0, wine_flag_all.shape[1]):\n",
        "    if wine_flag_all.dtypes[i]=='object' or wine_flag_all.dtypes[i]=='bool':\n",
        "        enc_wine_flag_all[wine_flag_all.columns[i]] = le.fit_transform(wine_flag_all[wine_flag_all.columns[i]])\n",
        "\n",
        "\n",
        "print(wine_flag_all)\n",
        "print(\"\\n\\n\")\n",
        "print(enc_wine_flag_all)"
      ],
      "metadata": {
        "colab": {
          "base_uri": "https://localhost:8080/"
        },
        "id": "MlMruYJUM1zK",
        "outputId": "03e99e28-776e-408e-d01e-93455093e11c"
      },
      "execution_count": 98,
      "outputs": [
        {
          "output_type": "stream",
          "name": "stdout",
          "text": [
            "       Type Alcohol_flag Sugar_flag\n",
            "0       Red         High       High\n",
            "1       Red         High        Low\n",
            "2       Red          Low       High\n",
            "3       Red         High        Low\n",
            "4       Red          Low        Low\n",
            "...     ...          ...        ...\n",
            "3340  White         High       High\n",
            "3341  White         High        Low\n",
            "3342  White         High        Low\n",
            "3343  White         High        Low\n",
            "3344  White         High        Low\n",
            "\n",
            "[3345 rows x 3 columns]\n",
            "\n",
            "\n",
            "\n",
            "      Type  Alcohol_flag  Sugar_flag\n",
            "0        0             0           0\n",
            "1        0             0           1\n",
            "2        0             1           0\n",
            "3        0             0           1\n",
            "4        0             1           1\n",
            "...    ...           ...         ...\n",
            "3340     1             0           0\n",
            "3341     1             0           1\n",
            "3342     1             0           1\n",
            "3343     1             0           1\n",
            "3344     1             0           1\n",
            "\n",
            "[3345 rows x 3 columns]\n"
          ]
        }
      ]
    },
    {
      "cell_type": "markdown",
      "source": [
        "4. Create crosstabs\n",
        "\n",
        "Type vs. alcohol content"
      ],
      "metadata": {
        "id": "qFjYM2yRTtPK"
      }
    },
    {
      "cell_type": "code",
      "source": [
        "# create crosstab for type vs. alcohol\n",
        "\n",
        "type_vs_alcohol = pd.crosstab(wine_flag_all['Type'], wine_flag_all['Alcohol_flag'], margins=True)\n",
        "\n",
        "type_vs_alcohol"
      ],
      "metadata": {
        "colab": {
          "base_uri": "https://localhost:8080/",
          "height": 175
        },
        "id": "qs_Ety-OYWPi",
        "outputId": "aac0fa95-6898-403c-a2e1-ac113241574f"
      },
      "execution_count": 99,
      "outputs": [
        {
          "output_type": "execute_result",
          "data": {
            "text/plain": [
              "Alcohol_flag  High   Low   All\n",
              "Type                          \n",
              "Red            485   600  1085\n",
              "White         1176  1084  2260\n",
              "All           1661  1684  3345"
            ],
            "text/html": [
              "\n",
              "  <div id=\"df-9696153f-3159-4533-858f-d44236ec970f\" class=\"colab-df-container\">\n",
              "    <div>\n",
              "<style scoped>\n",
              "    .dataframe tbody tr th:only-of-type {\n",
              "        vertical-align: middle;\n",
              "    }\n",
              "\n",
              "    .dataframe tbody tr th {\n",
              "        vertical-align: top;\n",
              "    }\n",
              "\n",
              "    .dataframe thead th {\n",
              "        text-align: right;\n",
              "    }\n",
              "</style>\n",
              "<table border=\"1\" class=\"dataframe\">\n",
              "  <thead>\n",
              "    <tr style=\"text-align: right;\">\n",
              "      <th>Alcohol_flag</th>\n",
              "      <th>High</th>\n",
              "      <th>Low</th>\n",
              "      <th>All</th>\n",
              "    </tr>\n",
              "    <tr>\n",
              "      <th>Type</th>\n",
              "      <th></th>\n",
              "      <th></th>\n",
              "      <th></th>\n",
              "    </tr>\n",
              "  </thead>\n",
              "  <tbody>\n",
              "    <tr>\n",
              "      <th>Red</th>\n",
              "      <td>485</td>\n",
              "      <td>600</td>\n",
              "      <td>1085</td>\n",
              "    </tr>\n",
              "    <tr>\n",
              "      <th>White</th>\n",
              "      <td>1176</td>\n",
              "      <td>1084</td>\n",
              "      <td>2260</td>\n",
              "    </tr>\n",
              "    <tr>\n",
              "      <th>All</th>\n",
              "      <td>1661</td>\n",
              "      <td>1684</td>\n",
              "      <td>3345</td>\n",
              "    </tr>\n",
              "  </tbody>\n",
              "</table>\n",
              "</div>\n",
              "    <div class=\"colab-df-buttons\">\n",
              "\n",
              "  <div class=\"colab-df-container\">\n",
              "    <button class=\"colab-df-convert\" onclick=\"convertToInteractive('df-9696153f-3159-4533-858f-d44236ec970f')\"\n",
              "            title=\"Convert this dataframe to an interactive table.\"\n",
              "            style=\"display:none;\">\n",
              "\n",
              "  <svg xmlns=\"http://www.w3.org/2000/svg\" height=\"24px\" viewBox=\"0 -960 960 960\">\n",
              "    <path d=\"M120-120v-720h720v720H120Zm60-500h600v-160H180v160Zm220 220h160v-160H400v160Zm0 220h160v-160H400v160ZM180-400h160v-160H180v160Zm440 0h160v-160H620v160ZM180-180h160v-160H180v160Zm440 0h160v-160H620v160Z\"/>\n",
              "  </svg>\n",
              "    </button>\n",
              "\n",
              "  <style>\n",
              "    .colab-df-container {\n",
              "      display:flex;\n",
              "      gap: 12px;\n",
              "    }\n",
              "\n",
              "    .colab-df-convert {\n",
              "      background-color: #E8F0FE;\n",
              "      border: none;\n",
              "      border-radius: 50%;\n",
              "      cursor: pointer;\n",
              "      display: none;\n",
              "      fill: #1967D2;\n",
              "      height: 32px;\n",
              "      padding: 0 0 0 0;\n",
              "      width: 32px;\n",
              "    }\n",
              "\n",
              "    .colab-df-convert:hover {\n",
              "      background-color: #E2EBFA;\n",
              "      box-shadow: 0px 1px 2px rgba(60, 64, 67, 0.3), 0px 1px 3px 1px rgba(60, 64, 67, 0.15);\n",
              "      fill: #174EA6;\n",
              "    }\n",
              "\n",
              "    .colab-df-buttons div {\n",
              "      margin-bottom: 4px;\n",
              "    }\n",
              "\n",
              "    [theme=dark] .colab-df-convert {\n",
              "      background-color: #3B4455;\n",
              "      fill: #D2E3FC;\n",
              "    }\n",
              "\n",
              "    [theme=dark] .colab-df-convert:hover {\n",
              "      background-color: #434B5C;\n",
              "      box-shadow: 0px 1px 3px 1px rgba(0, 0, 0, 0.15);\n",
              "      filter: drop-shadow(0px 1px 2px rgba(0, 0, 0, 0.3));\n",
              "      fill: #FFFFFF;\n",
              "    }\n",
              "  </style>\n",
              "\n",
              "    <script>\n",
              "      const buttonEl =\n",
              "        document.querySelector('#df-9696153f-3159-4533-858f-d44236ec970f button.colab-df-convert');\n",
              "      buttonEl.style.display =\n",
              "        google.colab.kernel.accessAllowed ? 'block' : 'none';\n",
              "\n",
              "      async function convertToInteractive(key) {\n",
              "        const element = document.querySelector('#df-9696153f-3159-4533-858f-d44236ec970f');\n",
              "        const dataTable =\n",
              "          await google.colab.kernel.invokeFunction('convertToInteractive',\n",
              "                                                    [key], {});\n",
              "        if (!dataTable) return;\n",
              "\n",
              "        const docLinkHtml = 'Like what you see? Visit the ' +\n",
              "          '<a target=\"_blank\" href=https://colab.research.google.com/notebooks/data_table.ipynb>data table notebook</a>'\n",
              "          + ' to learn more about interactive tables.';\n",
              "        element.innerHTML = '';\n",
              "        dataTable['output_type'] = 'display_data';\n",
              "        await google.colab.output.renderOutput(dataTable, element);\n",
              "        const docLink = document.createElement('div');\n",
              "        docLink.innerHTML = docLinkHtml;\n",
              "        element.appendChild(docLink);\n",
              "      }\n",
              "    </script>\n",
              "  </div>\n",
              "\n",
              "\n",
              "<div id=\"df-e2ea3f70-a136-4aaf-adb1-87dc4a62399a\">\n",
              "  <button class=\"colab-df-quickchart\" onclick=\"quickchart('df-e2ea3f70-a136-4aaf-adb1-87dc4a62399a')\"\n",
              "            title=\"Suggest charts\"\n",
              "            style=\"display:none;\">\n",
              "\n",
              "<svg xmlns=\"http://www.w3.org/2000/svg\" height=\"24px\"viewBox=\"0 0 24 24\"\n",
              "     width=\"24px\">\n",
              "    <g>\n",
              "        <path d=\"M19 3H5c-1.1 0-2 .9-2 2v14c0 1.1.9 2 2 2h14c1.1 0 2-.9 2-2V5c0-1.1-.9-2-2-2zM9 17H7v-7h2v7zm4 0h-2V7h2v10zm4 0h-2v-4h2v4z\"/>\n",
              "    </g>\n",
              "</svg>\n",
              "  </button>\n",
              "\n",
              "<style>\n",
              "  .colab-df-quickchart {\n",
              "      --bg-color: #E8F0FE;\n",
              "      --fill-color: #1967D2;\n",
              "      --hover-bg-color: #E2EBFA;\n",
              "      --hover-fill-color: #174EA6;\n",
              "      --disabled-fill-color: #AAA;\n",
              "      --disabled-bg-color: #DDD;\n",
              "  }\n",
              "\n",
              "  [theme=dark] .colab-df-quickchart {\n",
              "      --bg-color: #3B4455;\n",
              "      --fill-color: #D2E3FC;\n",
              "      --hover-bg-color: #434B5C;\n",
              "      --hover-fill-color: #FFFFFF;\n",
              "      --disabled-bg-color: #3B4455;\n",
              "      --disabled-fill-color: #666;\n",
              "  }\n",
              "\n",
              "  .colab-df-quickchart {\n",
              "    background-color: var(--bg-color);\n",
              "    border: none;\n",
              "    border-radius: 50%;\n",
              "    cursor: pointer;\n",
              "    display: none;\n",
              "    fill: var(--fill-color);\n",
              "    height: 32px;\n",
              "    padding: 0;\n",
              "    width: 32px;\n",
              "  }\n",
              "\n",
              "  .colab-df-quickchart:hover {\n",
              "    background-color: var(--hover-bg-color);\n",
              "    box-shadow: 0 1px 2px rgba(60, 64, 67, 0.3), 0 1px 3px 1px rgba(60, 64, 67, 0.15);\n",
              "    fill: var(--button-hover-fill-color);\n",
              "  }\n",
              "\n",
              "  .colab-df-quickchart-complete:disabled,\n",
              "  .colab-df-quickchart-complete:disabled:hover {\n",
              "    background-color: var(--disabled-bg-color);\n",
              "    fill: var(--disabled-fill-color);\n",
              "    box-shadow: none;\n",
              "  }\n",
              "\n",
              "  .colab-df-spinner {\n",
              "    border: 2px solid var(--fill-color);\n",
              "    border-color: transparent;\n",
              "    border-bottom-color: var(--fill-color);\n",
              "    animation:\n",
              "      spin 1s steps(1) infinite;\n",
              "  }\n",
              "\n",
              "  @keyframes spin {\n",
              "    0% {\n",
              "      border-color: transparent;\n",
              "      border-bottom-color: var(--fill-color);\n",
              "      border-left-color: var(--fill-color);\n",
              "    }\n",
              "    20% {\n",
              "      border-color: transparent;\n",
              "      border-left-color: var(--fill-color);\n",
              "      border-top-color: var(--fill-color);\n",
              "    }\n",
              "    30% {\n",
              "      border-color: transparent;\n",
              "      border-left-color: var(--fill-color);\n",
              "      border-top-color: var(--fill-color);\n",
              "      border-right-color: var(--fill-color);\n",
              "    }\n",
              "    40% {\n",
              "      border-color: transparent;\n",
              "      border-right-color: var(--fill-color);\n",
              "      border-top-color: var(--fill-color);\n",
              "    }\n",
              "    60% {\n",
              "      border-color: transparent;\n",
              "      border-right-color: var(--fill-color);\n",
              "    }\n",
              "    80% {\n",
              "      border-color: transparent;\n",
              "      border-right-color: var(--fill-color);\n",
              "      border-bottom-color: var(--fill-color);\n",
              "    }\n",
              "    90% {\n",
              "      border-color: transparent;\n",
              "      border-bottom-color: var(--fill-color);\n",
              "    }\n",
              "  }\n",
              "</style>\n",
              "\n",
              "  <script>\n",
              "    async function quickchart(key) {\n",
              "      const quickchartButtonEl =\n",
              "        document.querySelector('#' + key + ' button');\n",
              "      quickchartButtonEl.disabled = true;  // To prevent multiple clicks.\n",
              "      quickchartButtonEl.classList.add('colab-df-spinner');\n",
              "      try {\n",
              "        const charts = await google.colab.kernel.invokeFunction(\n",
              "            'suggestCharts', [key], {});\n",
              "      } catch (error) {\n",
              "        console.error('Error during call to suggestCharts:', error);\n",
              "      }\n",
              "      quickchartButtonEl.classList.remove('colab-df-spinner');\n",
              "      quickchartButtonEl.classList.add('colab-df-quickchart-complete');\n",
              "    }\n",
              "    (() => {\n",
              "      let quickchartButtonEl =\n",
              "        document.querySelector('#df-e2ea3f70-a136-4aaf-adb1-87dc4a62399a button');\n",
              "      quickchartButtonEl.style.display =\n",
              "        google.colab.kernel.accessAllowed ? 'block' : 'none';\n",
              "    })();\n",
              "  </script>\n",
              "</div>\n",
              "    </div>\n",
              "  </div>\n"
            ]
          },
          "metadata": {},
          "execution_count": 99
        }
      ]
    },
    {
      "cell_type": "markdown",
      "source": [
        "Type vs. sugar content"
      ],
      "metadata": {
        "id": "vjJz7FaDcXUR"
      }
    },
    {
      "cell_type": "code",
      "source": [
        "# create crosstab for type vs. sugar\n",
        "\n",
        "type_vs_sugar = pd.crosstab(wine_flag_all['Type'], wine_flag_all['Sugar_flag'], margins=True)\n",
        "\n",
        "type_vs_sugar"
      ],
      "metadata": {
        "colab": {
          "base_uri": "https://localhost:8080/",
          "height": 175
        },
        "id": "exLyS-FBccrD",
        "outputId": "89f0e6a2-f7b3-4825-fe49-602b072797b6"
      },
      "execution_count": 100,
      "outputs": [
        {
          "output_type": "execute_result",
          "data": {
            "text/plain": [
              "Sugar_flag  High   Low   All\n",
              "Type                        \n",
              "Red          237   848  1085\n",
              "White       1382   878  2260\n",
              "All         1619  1726  3345"
            ],
            "text/html": [
              "\n",
              "  <div id=\"df-cd4839a9-f656-412e-8287-ebc539624aa0\" class=\"colab-df-container\">\n",
              "    <div>\n",
              "<style scoped>\n",
              "    .dataframe tbody tr th:only-of-type {\n",
              "        vertical-align: middle;\n",
              "    }\n",
              "\n",
              "    .dataframe tbody tr th {\n",
              "        vertical-align: top;\n",
              "    }\n",
              "\n",
              "    .dataframe thead th {\n",
              "        text-align: right;\n",
              "    }\n",
              "</style>\n",
              "<table border=\"1\" class=\"dataframe\">\n",
              "  <thead>\n",
              "    <tr style=\"text-align: right;\">\n",
              "      <th>Sugar_flag</th>\n",
              "      <th>High</th>\n",
              "      <th>Low</th>\n",
              "      <th>All</th>\n",
              "    </tr>\n",
              "    <tr>\n",
              "      <th>Type</th>\n",
              "      <th></th>\n",
              "      <th></th>\n",
              "      <th></th>\n",
              "    </tr>\n",
              "  </thead>\n",
              "  <tbody>\n",
              "    <tr>\n",
              "      <th>Red</th>\n",
              "      <td>237</td>\n",
              "      <td>848</td>\n",
              "      <td>1085</td>\n",
              "    </tr>\n",
              "    <tr>\n",
              "      <th>White</th>\n",
              "      <td>1382</td>\n",
              "      <td>878</td>\n",
              "      <td>2260</td>\n",
              "    </tr>\n",
              "    <tr>\n",
              "      <th>All</th>\n",
              "      <td>1619</td>\n",
              "      <td>1726</td>\n",
              "      <td>3345</td>\n",
              "    </tr>\n",
              "  </tbody>\n",
              "</table>\n",
              "</div>\n",
              "    <div class=\"colab-df-buttons\">\n",
              "\n",
              "  <div class=\"colab-df-container\">\n",
              "    <button class=\"colab-df-convert\" onclick=\"convertToInteractive('df-cd4839a9-f656-412e-8287-ebc539624aa0')\"\n",
              "            title=\"Convert this dataframe to an interactive table.\"\n",
              "            style=\"display:none;\">\n",
              "\n",
              "  <svg xmlns=\"http://www.w3.org/2000/svg\" height=\"24px\" viewBox=\"0 -960 960 960\">\n",
              "    <path d=\"M120-120v-720h720v720H120Zm60-500h600v-160H180v160Zm220 220h160v-160H400v160Zm0 220h160v-160H400v160ZM180-400h160v-160H180v160Zm440 0h160v-160H620v160ZM180-180h160v-160H180v160Zm440 0h160v-160H620v160Z\"/>\n",
              "  </svg>\n",
              "    </button>\n",
              "\n",
              "  <style>\n",
              "    .colab-df-container {\n",
              "      display:flex;\n",
              "      gap: 12px;\n",
              "    }\n",
              "\n",
              "    .colab-df-convert {\n",
              "      background-color: #E8F0FE;\n",
              "      border: none;\n",
              "      border-radius: 50%;\n",
              "      cursor: pointer;\n",
              "      display: none;\n",
              "      fill: #1967D2;\n",
              "      height: 32px;\n",
              "      padding: 0 0 0 0;\n",
              "      width: 32px;\n",
              "    }\n",
              "\n",
              "    .colab-df-convert:hover {\n",
              "      background-color: #E2EBFA;\n",
              "      box-shadow: 0px 1px 2px rgba(60, 64, 67, 0.3), 0px 1px 3px 1px rgba(60, 64, 67, 0.15);\n",
              "      fill: #174EA6;\n",
              "    }\n",
              "\n",
              "    .colab-df-buttons div {\n",
              "      margin-bottom: 4px;\n",
              "    }\n",
              "\n",
              "    [theme=dark] .colab-df-convert {\n",
              "      background-color: #3B4455;\n",
              "      fill: #D2E3FC;\n",
              "    }\n",
              "\n",
              "    [theme=dark] .colab-df-convert:hover {\n",
              "      background-color: #434B5C;\n",
              "      box-shadow: 0px 1px 3px 1px rgba(0, 0, 0, 0.15);\n",
              "      filter: drop-shadow(0px 1px 2px rgba(0, 0, 0, 0.3));\n",
              "      fill: #FFFFFF;\n",
              "    }\n",
              "  </style>\n",
              "\n",
              "    <script>\n",
              "      const buttonEl =\n",
              "        document.querySelector('#df-cd4839a9-f656-412e-8287-ebc539624aa0 button.colab-df-convert');\n",
              "      buttonEl.style.display =\n",
              "        google.colab.kernel.accessAllowed ? 'block' : 'none';\n",
              "\n",
              "      async function convertToInteractive(key) {\n",
              "        const element = document.querySelector('#df-cd4839a9-f656-412e-8287-ebc539624aa0');\n",
              "        const dataTable =\n",
              "          await google.colab.kernel.invokeFunction('convertToInteractive',\n",
              "                                                    [key], {});\n",
              "        if (!dataTable) return;\n",
              "\n",
              "        const docLinkHtml = 'Like what you see? Visit the ' +\n",
              "          '<a target=\"_blank\" href=https://colab.research.google.com/notebooks/data_table.ipynb>data table notebook</a>'\n",
              "          + ' to learn more about interactive tables.';\n",
              "        element.innerHTML = '';\n",
              "        dataTable['output_type'] = 'display_data';\n",
              "        await google.colab.output.renderOutput(dataTable, element);\n",
              "        const docLink = document.createElement('div');\n",
              "        docLink.innerHTML = docLinkHtml;\n",
              "        element.appendChild(docLink);\n",
              "      }\n",
              "    </script>\n",
              "  </div>\n",
              "\n",
              "\n",
              "<div id=\"df-d632473d-0556-49e7-b60e-1e3ff1987a32\">\n",
              "  <button class=\"colab-df-quickchart\" onclick=\"quickchart('df-d632473d-0556-49e7-b60e-1e3ff1987a32')\"\n",
              "            title=\"Suggest charts\"\n",
              "            style=\"display:none;\">\n",
              "\n",
              "<svg xmlns=\"http://www.w3.org/2000/svg\" height=\"24px\"viewBox=\"0 0 24 24\"\n",
              "     width=\"24px\">\n",
              "    <g>\n",
              "        <path d=\"M19 3H5c-1.1 0-2 .9-2 2v14c0 1.1.9 2 2 2h14c1.1 0 2-.9 2-2V5c0-1.1-.9-2-2-2zM9 17H7v-7h2v7zm4 0h-2V7h2v10zm4 0h-2v-4h2v4z\"/>\n",
              "    </g>\n",
              "</svg>\n",
              "  </button>\n",
              "\n",
              "<style>\n",
              "  .colab-df-quickchart {\n",
              "      --bg-color: #E8F0FE;\n",
              "      --fill-color: #1967D2;\n",
              "      --hover-bg-color: #E2EBFA;\n",
              "      --hover-fill-color: #174EA6;\n",
              "      --disabled-fill-color: #AAA;\n",
              "      --disabled-bg-color: #DDD;\n",
              "  }\n",
              "\n",
              "  [theme=dark] .colab-df-quickchart {\n",
              "      --bg-color: #3B4455;\n",
              "      --fill-color: #D2E3FC;\n",
              "      --hover-bg-color: #434B5C;\n",
              "      --hover-fill-color: #FFFFFF;\n",
              "      --disabled-bg-color: #3B4455;\n",
              "      --disabled-fill-color: #666;\n",
              "  }\n",
              "\n",
              "  .colab-df-quickchart {\n",
              "    background-color: var(--bg-color);\n",
              "    border: none;\n",
              "    border-radius: 50%;\n",
              "    cursor: pointer;\n",
              "    display: none;\n",
              "    fill: var(--fill-color);\n",
              "    height: 32px;\n",
              "    padding: 0;\n",
              "    width: 32px;\n",
              "  }\n",
              "\n",
              "  .colab-df-quickchart:hover {\n",
              "    background-color: var(--hover-bg-color);\n",
              "    box-shadow: 0 1px 2px rgba(60, 64, 67, 0.3), 0 1px 3px 1px rgba(60, 64, 67, 0.15);\n",
              "    fill: var(--button-hover-fill-color);\n",
              "  }\n",
              "\n",
              "  .colab-df-quickchart-complete:disabled,\n",
              "  .colab-df-quickchart-complete:disabled:hover {\n",
              "    background-color: var(--disabled-bg-color);\n",
              "    fill: var(--disabled-fill-color);\n",
              "    box-shadow: none;\n",
              "  }\n",
              "\n",
              "  .colab-df-spinner {\n",
              "    border: 2px solid var(--fill-color);\n",
              "    border-color: transparent;\n",
              "    border-bottom-color: var(--fill-color);\n",
              "    animation:\n",
              "      spin 1s steps(1) infinite;\n",
              "  }\n",
              "\n",
              "  @keyframes spin {\n",
              "    0% {\n",
              "      border-color: transparent;\n",
              "      border-bottom-color: var(--fill-color);\n",
              "      border-left-color: var(--fill-color);\n",
              "    }\n",
              "    20% {\n",
              "      border-color: transparent;\n",
              "      border-left-color: var(--fill-color);\n",
              "      border-top-color: var(--fill-color);\n",
              "    }\n",
              "    30% {\n",
              "      border-color: transparent;\n",
              "      border-left-color: var(--fill-color);\n",
              "      border-top-color: var(--fill-color);\n",
              "      border-right-color: var(--fill-color);\n",
              "    }\n",
              "    40% {\n",
              "      border-color: transparent;\n",
              "      border-right-color: var(--fill-color);\n",
              "      border-top-color: var(--fill-color);\n",
              "    }\n",
              "    60% {\n",
              "      border-color: transparent;\n",
              "      border-right-color: var(--fill-color);\n",
              "    }\n",
              "    80% {\n",
              "      border-color: transparent;\n",
              "      border-right-color: var(--fill-color);\n",
              "      border-bottom-color: var(--fill-color);\n",
              "    }\n",
              "    90% {\n",
              "      border-color: transparent;\n",
              "      border-bottom-color: var(--fill-color);\n",
              "    }\n",
              "  }\n",
              "</style>\n",
              "\n",
              "  <script>\n",
              "    async function quickchart(key) {\n",
              "      const quickchartButtonEl =\n",
              "        document.querySelector('#' + key + ' button');\n",
              "      quickchartButtonEl.disabled = true;  // To prevent multiple clicks.\n",
              "      quickchartButtonEl.classList.add('colab-df-spinner');\n",
              "      try {\n",
              "        const charts = await google.colab.kernel.invokeFunction(\n",
              "            'suggestCharts', [key], {});\n",
              "      } catch (error) {\n",
              "        console.error('Error during call to suggestCharts:', error);\n",
              "      }\n",
              "      quickchartButtonEl.classList.remove('colab-df-spinner');\n",
              "      quickchartButtonEl.classList.add('colab-df-quickchart-complete');\n",
              "    }\n",
              "    (() => {\n",
              "      let quickchartButtonEl =\n",
              "        document.querySelector('#df-d632473d-0556-49e7-b60e-1e3ff1987a32 button');\n",
              "      quickchartButtonEl.style.display =\n",
              "        google.colab.kernel.accessAllowed ? 'block' : 'none';\n",
              "    })();\n",
              "  </script>\n",
              "</div>\n",
              "    </div>\n",
              "  </div>\n"
            ]
          },
          "metadata": {},
          "execution_count": 100
        }
      ]
    },
    {
      "cell_type": "markdown",
      "source": [
        "5. Plotting crosstab results"
      ],
      "metadata": {
        "id": "ok5_jQP-N3DD"
      }
    },
    {
      "cell_type": "code",
      "source": [
        "# plot the table\n",
        "ax1 = type_vs_alcohol.plot(kind=\"bar\", stacked=False)\n",
        "ax1.legend(title='Type', bbox_to_anchor=(1, 1.02), loc='upper left')"
      ],
      "metadata": {
        "colab": {
          "base_uri": "https://localhost:8080/",
          "height": 497
        },
        "id": "tqFTAYwiOk4Y",
        "outputId": "ce9608bc-2e3f-4003-8bdf-696d3082cd60"
      },
      "execution_count": 101,
      "outputs": [
        {
          "output_type": "execute_result",
          "data": {
            "text/plain": [
              "<matplotlib.legend.Legend at 0x7ef170e47c40>"
            ]
          },
          "metadata": {},
          "execution_count": 101
        },
        {
          "output_type": "display_data",
          "data": {
            "text/plain": [
              "<Figure size 640x480 with 1 Axes>"
            ],
            "image/png": "[encoded data removed]"
          },
          "metadata": {}
        }
      ]
    },
    {
      "cell_type": "markdown",
      "source": [
        "Type vs. sugar"
      ],
      "metadata": {
        "id": "Cf3J6b6IPwXc"
      }
    },
    {
      "cell_type": "code",
      "source": [
        "# plot the table\n",
        "ax2 = type_vs_sugar.plot(kind=\"bar\", stacked=False)\n",
        "ax2.legend(title='Type', bbox_to_anchor=(1, 1.02), loc='upper left')"
      ],
      "metadata": {
        "colab": {
          "base_uri": "https://localhost:8080/",
          "height": 497
        },
        "id": "8CKrsXBlPySi",
        "outputId": "abb53cea-950d-4801-ff80-698c413b5c65"
      },
      "execution_count": 102,
      "outputs": [
        {
          "output_type": "execute_result",
          "data": {
            "text/plain": [
              "<matplotlib.legend.Legend at 0x7ef1696a02e0>"
            ]
          },
          "metadata": {},
          "execution_count": 102
        },
        {
          "output_type": "display_data",
          "data": {
            "text/plain": [
              "<Figure size 640x480 with 1 Axes>"
            ],
            "image/png": "[encoded data removed]"
          },
          "metadata": {}
        }
      ]
    },
    {
      "cell_type": "markdown",
      "source": [
        "6. Calculating probabilities"
      ],
      "metadata": {
        "id": "0vi9-S3UKkBd"
      }
    },
    {
      "cell_type": "code",
      "source": [
        "#total of type red / total number of all wine\n",
        "print(\"Wine types\")\n",
        "type_red = type_vs_alcohol['All'].loc[type_vs_alcohol.index[0]] / type_vs_alcohol['All'].loc[type_vs_alcohol.index[2]]\n",
        "print(\"prior probability of type red: \", type_red)\n",
        "\n",
        "#total of type white / total number of all wine\n",
        "type_white = type_vs_alcohol['All'].loc[type_vs_alcohol.index[1]] / type_vs_alcohol['All'].loc[type_vs_alcohol.index[2]]\n",
        "print(\"prior probability of type white: \", type_white)\n",
        "\n",
        "#Alcohol\n",
        "print(\"\\n\")\n",
        "print(\"Alcohol\")\n",
        "\n",
        "\n",
        "#total with high alcohol / total number of all wine\n",
        "high_alcohol = type_vs_alcohol['High'].loc[type_vs_alcohol.index[2]] / type_vs_alcohol['All'].loc[type_vs_alcohol.index[2]]\n",
        "print(\"probability of high alcohol: \", high_alcohol)\n",
        "\n",
        "#total with low  alcohol / total number of all wine\n",
        "low_alcohol = type_vs_alcohol['Low'].loc[type_vs_alcohol.index[2]] / type_vs_alcohol['All'].loc[type_vs_alcohol.index[2]]\n",
        "print(\"probability of low alcohol: \", low_alcohol)\n",
        "\n",
        "#Sugar\n",
        "print(\"\\n\")\n",
        "print(\"Sugar\")\n",
        "\n",
        "\n",
        "#total with high sugar / total number of all wine\n",
        "high_sugar = type_vs_sugar['High'].loc[type_vs_sugar.index[2]] / type_vs_sugar['All'].loc[type_vs_sugar.index[2]]\n",
        "print(\"probability of high sugar: \", high_sugar)\n",
        "\n",
        "#total with low sugar / total number of all wine\n",
        "low_sugar = type_vs_sugar['Low'].loc[type_vs_sugar.index[2]] / type_vs_sugar['All'].loc[type_vs_sugar.index[2]]\n",
        "print(\"probability of low sugar: \", low_sugar)\n",
        "\n",
        "print(\"\\n\")\n",
        "\n",
        "#p(Alcohol_flag = High ∣ Type = Red)\n",
        "print(\"High Alcohol | Red wine\")\n",
        "\n",
        "high_alcohol_and_red_wine = type_vs_alcohol['High'].loc[type_vs_alcohol.index[0]] /type_vs_alcohol['All'].loc[type_vs_alcohol.index[0]]\n",
        "print(\"(Alcohol_flag = High ∣ Type = Red):\", high_alcohol_and_red_wine)\n",
        "print(\"(High alcohol):\", high_alcohol)\n",
        "print(\"\\n\")\n",
        "\n",
        "prob_high_alcohol_and_red_wine = (high_alcohol_and_red_wine *type_red)/ high_alcohol\n",
        "print(\"(\", high_alcohol_and_red_wine, \" x \",type_red, \") /\", high_alcohol,\" = \", prob_high_alcohol_and_red_wine )\n",
        "print(\"\\n\")\n",
        "\n",
        "#p(Alcohol_flag = Low ∣ Type = Red)\n",
        "print(\"Low Alcohol | Red wine\")\n",
        "\n",
        "low_alcohol_and_red_wine = type_vs_alcohol['Low'].loc[type_vs_alcohol.index[0]] /type_vs_alcohol['All'].loc[type_vs_alcohol.index[0]]\n",
        "print(\"(Alcohol_flag = Low ∣ Type = Red):\", low_alcohol_and_red_wine)\n",
        "print(\"(Low alcohol):\", low_alcohol)\n",
        "print(\"\\n\")\n",
        "\n",
        "prob_low_alcohol_and_red_wine = (low_alcohol_and_red_wine *type_red)/ low_alcohol\n",
        "print(\"(\", low_alcohol_and_red_wine, \" x \",type_red, \") /\", low_alcohol,\" = \", prob_low_alcohol_and_red_wine )\n",
        "print(\"\\n\")\n",
        "\n",
        "#p(Sugar_flag = High ∣ Type = Red)\n",
        "print(\"High Sugar | Red wine\")\n",
        "\n",
        "high_sugar_and_red_wine = type_vs_sugar['High'].loc[type_vs_sugar.index[0]] /type_vs_sugar['All'].loc[type_vs_sugar.index[0]]\n",
        "print(\"(Sugar_flag = High ∣ Type = Red):\",high_sugar_and_red_wine)\n",
        "print(\"(High sugar):\", high_sugar)\n",
        "print(\"\\n\")\n",
        "\n",
        "prob_high_sugar_and_red_wine = (high_sugar_and_red_wine * type_red)/ high_sugar\n",
        "print(\"(\", high_sugar_and_red_wine, \" x \",type_red, \") /\",  high_sugar,\" = \", prob_high_sugar_and_red_wine)\n",
        "print(\"\\n\")\n",
        "\n",
        "#p(Sugar_flag =low ∣ Type = Red)\n",
        "print(\"Low Sugar | Red wine\")\n",
        "low_sugar_and_red_wine = type_vs_sugar['Low'].loc[type_vs_sugar.index[0]] /type_vs_sugar['All'].loc[type_vs_sugar.index[0]]\n",
        "print(\"(Sugar_flag = low ∣ Type = Red):\", low_sugar_and_red_wine)\n",
        "print(\"(Low Sugar):\", low_sugar)\n",
        "print(\"\\n\")\n",
        "\n",
        "prob_low_sugar_and_red_wine = (low_sugar_and_red_wine * type_red)/ low_sugar\n",
        "print(\"(\", low_sugar_and_red_wine, \" x \",type_red, \") /\",  low_sugar,\" = \", prob_low_sugar_and_red_wine)\n",
        "print(\"\\n\")\n",
        "\n"
      ],
      "metadata": {
        "colab": {
          "base_uri": "https://localhost:8080/"
        },
        "id": "_gM0c0QbCo0T",
        "outputId": "6ce7ac94-e2df-4c06-b9ab-c7ec11224d69"
      },
      "execution_count": 103,
      "outputs": [
        {
          "output_type": "stream",
          "name": "stdout",
          "text": [
            "Wine types\n",
            "prior probability of type red:  0.3243647234678625\n",
            "prior probability of type white:  0.6756352765321375\n",
            "\n",
            "\n",
            "Alcohol\n",
            "probability of high alcohol:  0.49656203288490286\n",
            "probability of low alcohol:  0.5034379671150971\n",
            "\n",
            "\n",
            "Sugar\n",
            "probability of high sugar:  0.48400597907324366\n",
            "probability of low sugar:  0.5159940209267564\n",
            "\n",
            "\n",
            "High Alcohol | Red wine\n",
            "(Alcohol_flag = High ∣ Type = Red): 0.4470046082949309\n",
            "(High alcohol): 0.49656203288490286\n",
            "\n",
            "\n",
            "( 0.4470046082949309  x  0.3243647234678625 ) / 0.49656203288490286  =  0.29199277543648405\n",
            "\n",
            "\n",
            "Low Alcohol | Red wine\n",
            "(Alcohol_flag = Low ∣ Type = Red): 0.5529953917050692\n",
            "(Low alcohol): 0.5034379671150971\n",
            "\n",
            "\n",
            "( 0.5529953917050692  x  0.3243647234678625 ) / 0.5034379671150971  =  0.3562945368171022\n",
            "\n",
            "\n",
            "High Sugar | Red wine\n",
            "(Sugar_flag = High ∣ Type = Red): 0.2184331797235023\n",
            "(High sugar): 0.48400597907324366\n",
            "\n",
            "\n",
            "( 0.2184331797235023  x  0.3243647234678625 ) / 0.48400597907324366  =  0.14638665843113033\n",
            "\n",
            "\n",
            "Low Sugar | Red wine\n",
            "(Sugar_flag = low ∣ Type = Red): 0.7815668202764977\n",
            "(Low Sugar): 0.5159940209267564\n",
            "\n",
            "\n",
            "( 0.7815668202764977  x  0.3243647234678625 ) / 0.5159940209267564  =  0.49130938586326767\n",
            "\n",
            "\n"
          ]
        }
      ]
    },
    {
      "cell_type": "markdown",
      "source": [
        "Wine types:\n",
        "* 1085 / 3345 = 0.32 is type red\n",
        "* 2260 / 3345 = 0.68 is type white\n",
        "\n",
        "Alcohol content\n",
        "\n",
        "* 1661 / 3345 = 0.50 has high alcohol\n",
        "* 1684 / 3345 = 0.50 has low alcohol\n",
        "\n",
        "Sugar:\n",
        "* 1619 / 3345 = 0.48 has high sugar\n",
        "* 1726 / 3345 = 0.52 has low sugar\n",
        "\n",
        "1. p(Alcohol_flag = High ∣ Type = Red)\n",
        "\n",
        " * red and high (485) / all red (1085) = 0.48\n",
        " * 1661 / 3345 = 0.50\n",
        " * (0.48 * 0.32) /0.50 = about 0.29\n",
        "\n",
        "2. p(Alcohol_flag = Low ∣ Type = Red)\n",
        "\n",
        " * red and low (600) / all red (1085) = 0.55\n",
        " * 1684 / 3345 = 0.50\n",
        " * (0.55 * 0.32) /0.50 = about 0.36\n",
        "\n",
        "3. p(Sugar_flag = High ∣ Type = Red)\n",
        "\n",
        " * red and high (237) / all red (1085) = 0.23\n",
        " * 1619 / 3345 = 0.48\n",
        " * (0.23 * 0.32) / 0.48 = about 0.15\n",
        "\n",
        "4. p(Sugar_flag = Low ∣ Type = Red)\n",
        "\n",
        " * red and low (848) / all red (1085) = 0.78\n",
        " * 1726 / 3345 = 0.52\n",
        " * (0.78 * 0.32) / 0.52 = about 0.49"
      ],
      "metadata": {
        "id": "JgFs3WOMXG57"
      }
    },
    {
      "cell_type": "markdown",
      "source": [
        "7. Generate Naive bayes models and use them for data testing (includes plots)\n",
        "\n",
        "80-20"
      ],
      "metadata": {
        "id": "fb1Mqx0cNfHk"
      }
    },
    {
      "cell_type": "code",
      "source": [
        "#import the NB modules\n",
        "from sklearn.naive_bayes import GaussianNB, MultinomialNB, CategoricalNB, BernoulliNB\n",
        "from sklearn.model_selection import train_test_split\n",
        "\n",
        "# make a NB model\n",
        "NBmodel = GaussianNB()\n",
        "\n",
        "#prepare input/output\n",
        "X = enc_wine_flag_all.iloc[:,1:3]\n",
        "y = enc_wine_flag_all.iloc[:,0]\n",
        "\n",
        "#\n",
        "X_train, X_test, y_train, y_test = \\\n",
        "    train_test_split(X, y, random_state=42, shuffle=True, test_size=0.20, stratify=y)\n",
        "\n",
        "#display sets\n",
        "print(X_train)\n",
        "print(X_test)"
      ],
      "metadata": {
        "colab": {
          "base_uri": "https://localhost:8080/"
        },
        "id": "VClJqlzGKp4-",
        "outputId": "a7010017-5ff5-4700-f357-5048faae58a7"
      },
      "execution_count": 104,
      "outputs": [
        {
          "output_type": "stream",
          "name": "stdout",
          "text": [
            "      Alcohol_flag  Sugar_flag\n",
            "2688             0           1\n",
            "1824             1           0\n",
            "2483             0           0\n",
            "935              1           1\n",
            "2017             1           0\n",
            "...            ...         ...\n",
            "2650             0           1\n",
            "2246             1           1\n",
            "3001             0           1\n",
            "11               1           1\n",
            "2854             0           1\n",
            "\n",
            "[2676 rows x 2 columns]\n",
            "      Alcohol_flag  Sugar_flag\n",
            "288              0           1\n",
            "3047             0           1\n",
            "2197             1           1\n",
            "3132             0           0\n",
            "682              1           0\n",
            "...            ...         ...\n",
            "864              0           1\n",
            "2505             0           0\n",
            "232              1           1\n",
            "2467             0           0\n",
            "2634             0           0\n",
            "\n",
            "[669 rows x 2 columns]\n"
          ]
        }
      ]
    },
    {
      "cell_type": "code",
      "source": [
        "import matplotlib.pyplot as plt\n",
        "\n",
        "# Train the model\n",
        "NBmodel.fit(X_train, y_train)\n",
        "\n",
        "# Calculate model accuracy on both training and test data\n",
        "labels = [\"Training\", \"Test\"]\n",
        "scores = [NBmodel.score(X_train, y_train), NBmodel.score(X_test, y_test)]\n",
        "\n",
        "\n",
        "# Plot the accuracy claues\n",
        "fig = plt.figure()\n",
        "ax3 = fig.add_axes([0,0,1,1])\n",
        "ax3.set_title('Model Classification Accuary on Training vs. Test Data')\n",
        "ax3.bar(labels, scores, color=\"orange\")\n",
        "ax3.set_ylim(0, 1)\n",
        "plt.show()"
      ],
      "metadata": {
        "colab": {
          "base_uri": "https://localhost:8080/",
          "height": 563
        },
        "id": "WxtiIfBZXp3Q",
        "outputId": "fc4f9d45-fbf9-4f1b-a44a-1bd3106c728e"
      },
      "execution_count": 105,
      "outputs": [
        {
          "output_type": "display_data",
          "data": {
            "text/plain": [
              "<Figure size 640x480 with 1 Axes>"
            ],
            "image/png": "[encoded data removed]"
          },
          "metadata": {}
        }
      ]
    },
    {
      "cell_type": "markdown",
      "source": [
        "75-25"
      ],
      "metadata": {
        "id": "IF7H3t-G_VxK"
      }
    },
    {
      "cell_type": "code",
      "source": [
        "NBmodel2 = GaussianNB()\n",
        "\n",
        "#prepare input/output\n",
        "X = enc_wine_flag_all.iloc[:,1:3]\n",
        "y = enc_wine_flag_all.iloc[:,0]\n",
        "\n",
        "#\n",
        "X_train, X_test, y_train, y_test = \\\n",
        "    train_test_split(X, y, random_state=72, shuffle=True, test_size=0.25, stratify=y)\n",
        "\n",
        "#display sets\n",
        "print(X_train)\n",
        "print(X_test)"
      ],
      "metadata": {
        "colab": {
          "base_uri": "https://localhost:8080/"
        },
        "id": "A1ma7Yp5_Z73",
        "outputId": "ec3875c1-dc8e-42fa-de00-8e3acd38a7c7"
      },
      "execution_count": 106,
      "outputs": [
        {
          "output_type": "stream",
          "name": "stdout",
          "text": [
            "      Alcohol_flag  Sugar_flag\n",
            "707              0           1\n",
            "1048             1           0\n",
            "1190             1           1\n",
            "1240             1           0\n",
            "1003             1           1\n",
            "...            ...         ...\n",
            "534              0           1\n",
            "2147             1           0\n",
            "2895             0           1\n",
            "713              1           1\n",
            "564              1           0\n",
            "\n",
            "[2508 rows x 2 columns]\n",
            "      Alcohol_flag  Sugar_flag\n",
            "1978             1           1\n",
            "2353             1           0\n",
            "992              0           0\n",
            "3217             0           1\n",
            "2656             0           1\n",
            "...            ...         ...\n",
            "1847             1           1\n",
            "2788             0           1\n",
            "2999             0           0\n",
            "2652             0           1\n",
            "2254             1           1\n",
            "\n",
            "[837 rows x 2 columns]\n"
          ]
        }
      ]
    },
    {
      "cell_type": "code",
      "source": [
        "# Train the model\n",
        "NBmodel2.fit(X_train, y_train)\n",
        "\n",
        "# Calculate model accuracy on both training and test data\n",
        "labels = [\"Training\", \"Test\"]\n",
        "scores = [NBmodel2.score(X_train, y_train), NBmodel2.score(X_test, y_test)]\n",
        "\n",
        "\n",
        "# Plot the accuracy claues\n",
        "fig = plt.figure()\n",
        "ax3 = fig.add_axes([0,0,1,1])\n",
        "ax3.set_title('Model Classification Accuary on Training vs. Test Data')\n",
        "ax3.bar(labels, scores, color=\"orange\")\n",
        "ax3.set_ylim(0, 1)\n",
        "plt.show()"
      ],
      "metadata": {
        "colab": {
          "base_uri": "https://localhost:8080/",
          "height": 563
        },
        "id": "zqb4X3Oa_vPa",
        "outputId": "78bd5dd9-58f7-4ba0-a60d-4abdac181dc1"
      },
      "execution_count": 107,
      "outputs": [
        {
          "output_type": "display_data",
          "data": {
            "text/plain": [
              "<Figure size 640x480 with 1 Axes>"
            ],
            "image/png": "[encoded data removed]"
          },
          "metadata": {}
        }
      ]
    },
    {
      "cell_type": "markdown",
      "source": [
        "70-30"
      ],
      "metadata": {
        "id": "m6oXW6FtAQ7S"
      }
    },
    {
      "cell_type": "code",
      "source": [
        "#make new model\n",
        "NBmodel3 = GaussianNB()\n",
        "\n",
        "#prepare input/output\n",
        "X = enc_wine_flag_all.iloc[:,1:3]\n",
        "y = enc_wine_flag_all.iloc[:,0]\n",
        "\n",
        "#\n",
        "X_train, X_test, y_train, y_test = \\\n",
        "    train_test_split(X, y, random_state=332, shuffle=True, test_size=0.30, stratify=y)\n",
        "\n",
        "#display sets\n",
        "print(X_train)\n",
        "print(X_test)"
      ],
      "metadata": {
        "colab": {
          "base_uri": "https://localhost:8080/"
        },
        "id": "dmZyah-8AU_f",
        "outputId": "7fb1e4ca-cfed-477b-ede5-560954d7f786"
      },
      "execution_count": 108,
      "outputs": [
        {
          "output_type": "stream",
          "name": "stdout",
          "text": [
            "      Alcohol_flag  Sugar_flag\n",
            "1787             1           1\n",
            "1119             1           1\n",
            "1362             0           1\n",
            "199              0           1\n",
            "1453             0           1\n",
            "...            ...         ...\n",
            "2125             1           0\n",
            "275              1           1\n",
            "2496             0           1\n",
            "3063             0           1\n",
            "2119             1           0\n",
            "\n",
            "[2341 rows x 2 columns]\n",
            "      Alcohol_flag  Sugar_flag\n",
            "1141             1           1\n",
            "1177             1           1\n",
            "532              0           1\n",
            "2100             1           0\n",
            "1888             1           0\n",
            "...            ...         ...\n",
            "2855             0           0\n",
            "1156             1           1\n",
            "1896             1           1\n",
            "1443             0           1\n",
            "22               0           1\n",
            "\n",
            "[1004 rows x 2 columns]\n"
          ]
        }
      ]
    },
    {
      "cell_type": "code",
      "source": [
        "# Train the model\n",
        "NBmodel3.fit(X_train, y_train)\n",
        "\n",
        "# Calculate model accuracy on both training and test data\n",
        "labels = [\"Training\", \"Test\"]\n",
        "scores = [NBmodel3.score(X_train, y_train), NBmodel3.score(X_test, y_test)]\n",
        "\n",
        "\n",
        "# Plot the accuracy claues\n",
        "fig = plt.figure()\n",
        "ax3 = fig.add_axes([0,0,1,1])\n",
        "ax3.set_title('Model Classification Accuary on Training vs. Test Data')\n",
        "ax3.bar(labels, scores, color=\"orange\")\n",
        "ax3.set_ylim(0, 1)\n",
        "plt.show()"
      ],
      "metadata": {
        "colab": {
          "base_uri": "https://localhost:8080/",
          "height": 563
        },
        "id": "YuBjEHRTAexp",
        "outputId": "5565cd18-beca-4ec7-cb29-a8af31239410"
      },
      "execution_count": 109,
      "outputs": [
        {
          "output_type": "display_data",
          "data": {
            "text/plain": [
              "<Figure size 640x480 with 1 Axes>"
            ],
            "image/png": "[encoded data removed]"
          },
          "metadata": {}
        }
      ]
    },
    {
      "cell_type": "markdown",
      "source": [
        "60-40"
      ],
      "metadata": {
        "id": "kvUL6J0OA6n7"
      }
    },
    {
      "cell_type": "code",
      "source": [
        "#make new model\n",
        "NBmodel4 = GaussianNB()\n",
        "\n",
        "#prepare input/output\n",
        "X = enc_wine_flag_all.iloc[:,1:3]\n",
        "y = enc_wine_flag_all.iloc[:,0]\n",
        "\n",
        "#\n",
        "X_train, X_test, y_train, y_test = \\\n",
        "    train_test_split(X, y, random_state=423, shuffle=True, test_size=0.40, stratify=y)\n",
        "\n",
        "#display sets\n",
        "print(X_train)\n",
        "print(X_test)"
      ],
      "metadata": {
        "colab": {
          "base_uri": "https://localhost:8080/"
        },
        "id": "prBYzVrhA9Zk",
        "outputId": "5edf7e8f-48f3-4e15-ac24-fcb3e5db5db0"
      },
      "execution_count": 110,
      "outputs": [
        {
          "output_type": "stream",
          "name": "stdout",
          "text": [
            "      Alcohol_flag  Sugar_flag\n",
            "2499             0           1\n",
            "298              1           1\n",
            "2789             0           1\n",
            "2030             1           0\n",
            "1945             1           0\n",
            "...            ...         ...\n",
            "1319             0           1\n",
            "3125             0           0\n",
            "917              1           1\n",
            "226              1           1\n",
            "2985             0           1\n",
            "\n",
            "[2007 rows x 2 columns]\n",
            "      Alcohol_flag  Sugar_flag\n",
            "92               0           1\n",
            "2080             1           0\n",
            "1091             1           1\n",
            "1808             1           0\n",
            "1173             1           1\n",
            "...            ...         ...\n",
            "1559             0           1\n",
            "2207             1           0\n",
            "1049             1           0\n",
            "1612             1           0\n",
            "406              0           1\n",
            "\n",
            "[1338 rows x 2 columns]\n"
          ]
        }
      ]
    },
    {
      "cell_type": "code",
      "source": [
        "# Train the model\n",
        "NBmodel4.fit(X_train, y_train)\n",
        "\n",
        "# Calculate model accuracy on both training and test data\n",
        "labels = [\"Training\", \"Test\"]\n",
        "scores = [NBmodel4.score(X_train, y_train), NBmodel4.score(X_test, y_test)]\n",
        "\n",
        "# Plot the accuracy claues\n",
        "fig = plt.figure()\n",
        "ax3 = fig.add_axes([0,0,1,1])\n",
        "ax3.set_title('Model Classification Accuary on Training vs. Test Data')\n",
        "ax3.bar(labels, scores, color=\"orange\")\n",
        "ax3.set_ylim(0, 1)\n",
        "plt.show()"
      ],
      "metadata": {
        "colab": {
          "base_uri": "https://localhost:8080/",
          "height": 563
        },
        "id": "urbL46n1BDVL",
        "outputId": "0995b70c-6191-41ca-e062-028aaaf9b61c"
      },
      "execution_count": 111,
      "outputs": [
        {
          "output_type": "display_data",
          "data": {
            "text/plain": [
              "<Figure size 640x480 with 1 Axes>"
            ],
            "image/png": "[encoded data removed]"
          },
          "metadata": {}
        }
      ]
    },
    {
      "cell_type": "markdown",
      "source": [
        "50-50"
      ],
      "metadata": {
        "id": "kDr-Ha2ZMbsU"
      }
    },
    {
      "cell_type": "code",
      "source": [
        "#make new model\n",
        "NBmodel5 = GaussianNB()\n",
        "\n",
        "#prepare input/output\n",
        "X = enc_wine_flag_all.iloc[:,1:3]\n",
        "y = enc_wine_flag_all.iloc[:,0]\n",
        "\n",
        "#\n",
        "X_train, X_test, y_train, y_test = \\\n",
        "    train_test_split(X, y, random_state=203, shuffle=True, test_size=0.50, stratify=y)\n",
        "\n",
        "#display sets\n",
        "print(X_train)\n",
        "print(X_test)"
      ],
      "metadata": {
        "colab": {
          "base_uri": "https://localhost:8080/"
        },
        "id": "QPlMfL2oMYOa",
        "outputId": "3cf22dba-dc0a-4b13-febd-204bb81f379f"
      },
      "execution_count": 112,
      "outputs": [
        {
          "output_type": "stream",
          "name": "stdout",
          "text": [
            "      Alcohol_flag  Sugar_flag\n",
            "973              1           0\n",
            "1879             1           0\n",
            "2184             1           0\n",
            "1123             1           1\n",
            "706              0           0\n",
            "...            ...         ...\n",
            "1443             0           1\n",
            "1824             1           0\n",
            "1505             0           1\n",
            "3172             0           1\n",
            "1181             1           1\n",
            "\n",
            "[1672 rows x 2 columns]\n",
            "      Alcohol_flag  Sugar_flag\n",
            "3275             0           1\n",
            "2615             0           0\n",
            "3221             0           1\n",
            "1699             1           1\n",
            "1525             0           0\n",
            "...            ...         ...\n",
            "956              1           0\n",
            "1135             1           1\n",
            "1759             1           0\n",
            "2996             0           0\n",
            "786              0           0\n",
            "\n",
            "[1673 rows x 2 columns]\n"
          ]
        }
      ]
    },
    {
      "cell_type": "code",
      "source": [
        "# Train the model\n",
        "NBmodel5.fit(X_train, y_train)\n",
        "\n",
        "# Calculate model accuracy on both training and test data\n",
        "labels = [\"Training\", \"Test\"]\n",
        "scores = [NBmodel5.score(X_train, y_train), NBmodel5.score(X_test, y_test)]\n",
        "\n",
        "# Plot the accuracy claues\n",
        "fig = plt.figure()\n",
        "ax3 = fig.add_axes([0,0,1,1])\n",
        "ax3.set_title('Model Classification Accuary on Training vs. Test Data')\n",
        "ax3.bar(labels, scores, color=\"orange\")\n",
        "ax3.set_ylim(0, 1)\n",
        "plt.show()"
      ],
      "metadata": {
        "id": "0TaQ5AzMMm_j",
        "outputId": "70e08dd8-7356-4442-a4fd-8c48d8077105",
        "colab": {
          "base_uri": "https://localhost:8080/",
          "height": 563
        }
      },
      "execution_count": 113,
      "outputs": [
        {
          "output_type": "display_data",
          "data": {
            "text/plain": [
              "<Figure size 640x480 with 1 Axes>"
            ],
            "image/png": "[encoded data removed]"
          },
          "metadata": {}
        }
      ]
    }
  ]
}